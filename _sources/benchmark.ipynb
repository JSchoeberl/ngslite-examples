{
 "cells": [
  {
   "cell_type": "markdown",
   "id": "38aa0b69-42d0-4ce5-b5a3-5689d6cd3ba2",
   "metadata": {},
   "source": [
    "# Heavy top without kinematik constraints\n",
    "\n",
    "example from\n",
    "\n",
    "Evaluation and implementation of Lie group integration\n",
    "methods for rigid multibody systems\n",
    "\n",
    "S. Holzinger, M. Arnold, J. Gerstmayr\n",
    "\n",
    "Section 4.1\n",
    "\n",
    "https://link.springer.com/article/10.1007/s11044-024-09970-8"
   ]
  },
  {
   "cell_type": "code",
   "execution_count": null,
   "id": "4f6fbae5-4fe8-40b0-adbd-0c77c95fcb85",
   "metadata": {},
   "outputs": [],
   "source": [
    "import ngsolve\n",
    "if ngsolve.__version__ < \"6.2.2405-28\": \n",
    "    raise Exception(\"NGSolve too old, pls run 'pip3 install --upgrade --pre ngsolve'\")"
   ]
  },
  {
   "cell_type": "code",
   "execution_count": null,
   "id": "a3a84b91-4b86-4a61-b13a-eba70deb04c2",
   "metadata": {},
   "outputs": [],
   "source": [
    "from ngsolve import *\n",
    "from netgen.occ import *\n",
    "import ipywidgets as widgets\n",
    "from ngsolve.comp import GlobalSpace\n",
    "from ngsolve.webgui import Draw\n",
    "from ngsolve.solvers import Newton\n",
    "from ngsolve.comp import DifferentialSymbol\n",
    "# ngsglobals.msg_level=10"
   ]
  },
  {
   "cell_type": "code",
   "execution_count": null,
   "id": "952534b9-70b8-4835-a20f-fbe01b030360",
   "metadata": {},
   "outputs": [],
   "source": [
    "mass = 15\n",
    "Jxx = Jzz = 0.234375\n",
    "Jyy = 0.468750  # (= 2*Jxx, so its a disk)\n",
    "omega0 = CF( (0,150,-4.61538) )"
   ]
  },
  {
   "cell_type": "code",
   "execution_count": null,
   "id": "8e630462-ccdb-49c6-b440-f5d4604a7f4b",
   "metadata": {},
   "outputs": [],
   "source": [
    "b = sqrt(3/2 * Jyy/mass)\n",
    "rho = mass/(4*b*b)     # kg/ m**2\n",
    "b, rho"
   ]
  },
  {
   "cell_type": "code",
   "execution_count": null,
   "id": "1e0ff78f-349d-48f5-a079-7683b2edf06d",
   "metadata": {},
   "outputs": [],
   "source": [
    "center = Pnt( (0,1,0) )\n",
    "disk = WorkPlane(Axes((0,1,0), Y)).RectangleC(2*b, 2*b).Face()\n",
    "shape = Glue ([disk, Segment( (0,0,0), (0,1,0)) ])\n",
    "shape.vertices.Min(Y).name=\"A\"\n",
    "mesh = Mesh(OCCGeometry(shape).GenerateMesh(maxh=3))\n",
    "Draw (mesh);"
   ]
  },
  {
   "cell_type": "code",
   "execution_count": null,
   "id": "30a3a6a8-1d51-43d0-9999-c1f443d2d6f6",
   "metadata": {},
   "outputs": [],
   "source": [
    "RBshapes = CF ( ( 1, 0, 0,\n",
    "                  0, 1, 0,\n",
    "                  0, 0, 1,\n",
    "                  y, -x, 0,\n",
    "                  0, z, -y,\n",
    "                  -z, 0, x) ).Reshape((6,3)).Compile() # realcompile=True, wait=True)\n",
    "RBspace = GlobalSpace (mesh, order=1, basis = RBshapes)\n",
    "\n",
    "SYMshapes = CF ( ( 1, 0, 0, 0, 0, 0, 0, 0, 0,\n",
    "                   0, 0, 0, 0, 1, 0, 0, 0, 0,\n",
    "                   0, 0, 0, 0, 0, 0, 0, 0, 1,\n",
    "                   0, 1, 0, 1, 0, 0, 0, 0, 0,\n",
    "                   0, 0, 1, 0, 0, 0, 1, 0, 0,\n",
    "                   0, 0, 0, 0, 0, 1, 0, 1, 0) ).Reshape((6,9)).Compile() # realcompile=True, wait=True)\n",
    "SYMspace = GlobalSpace (mesh, order=1, basis = SYMshapes)\n",
    "\n",
    "P1shapes = CF ( ( 1, 0, 0,\n",
    "                  0, 1, 0,\n",
    "                  0, 0, 1,\n",
    "                  x, 0, 0,\n",
    "                  0, x, 0,\n",
    "                  0, 0, x,\n",
    "                  y, 0, 0,\n",
    "                  0, y, 0,\n",
    "                  0, 0, y,\n",
    "                  z, 0, 0,\n",
    "                  0, z, 0,\n",
    "                  0, 0, z)).Reshape((12,3)).Compile() # realcompile=True, wait=True)\n",
    "P1space = GlobalSpace (mesh, order=1, basis = P1shapes)\n",
    "P1space.AddOperator(\"dx\", VOL, P1shapes.Diff(x))\n",
    "P1space.AddOperator(\"dy\", VOL, P1shapes.Diff(y))\n",
    "P1space.AddOperator(\"dz\", VOL, P1shapes.Diff(z))\n",
    "\n",
    "def MyGrad(gf):\n",
    "    return CF( (gf.Operator(\"dx\"), gf.Operator(\"dy\"), gf.Operator(\"dz\") )).Reshape((3,3)).trans\n",
    "def MyGradB(gf):\n",
    "    return CF( (gf.Operator(\"dx\", BND), gf.Operator(\"dy\", BND), gf.Operator(\"dz\", BND))).Reshape((3,3)).trans\n",
    "def MyGradBB(gf):\n",
    "    return CF( (gf.Operator(\"dx\", BBBND), gf.Operator(\"dy\", BBBND), gf.Operator(\"dz\", BBBND))).Reshape((3,3)).trans\n",
    "              "
   ]
  },
  {
   "cell_type": "markdown",
   "id": "8839b06f-8c34-4d6c-b17f-2f6df496194e",
   "metadata": {},
   "source": [
    "## time-stepping\n",
    "\n",
    "Rattle algorithm (see Hairer-Lubich-Wanner, page 246)\n",
    "\n",
    "Variables are\n",
    "\n",
    "* position $q = a + B x$, an affine linear function, with constraint $B^T B = I$, i.e. $B$ is orthogonal (and thus, by continuity, a rotation matrix)\n",
    "* velocity $v = a + b \\wedge x$, in body-frame\n",
    "* momentum $p = \\rho v$\n",
    "\n",
    "unknowns in time-step: $q(t_{n+1}), v(t_{n+1/2}), q(t_{n+1/2}), \\hat q := q(t_{n+1}) $\n",
    "\n",
    "constraints: $A(t_{n+1}) = \\dot A(t_{n+1}) = (0,0,0)$\n",
    "\n",
    "Lagrange parameters: $f_A(t_n), f_A(t_{n+1})$"
   ]
  },
  {
   "cell_type": "code",
   "execution_count": null,
   "id": "b1c88848-2364-4b33-b20b-e51768a3ff90",
   "metadata": {},
   "outputs": [],
   "source": [
    "fesR = NumberSpace(mesh)\n",
    "\n",
    "fes = P1space * RBspace * RBspace * RBspace * fesR**3 * fesR**3\n",
    "festest = RBspace * RBspace * RBspace * RBspace * SYMspace * fesR**3 * fesR**3\n",
    "\n",
    "# print (\"dimtrial =\", fes.ndof, \", dimtest =\", festest.ndof)\n",
    "gfold = GridFunction(fes)\n",
    "gf = GridFunction(fes)\n",
    "\n",
    "qold, vold, pold, phatold, fa1old, fa2old = gfold.components\n",
    "gfq, gfv, gfp, gfphat, gffa1, gffa2 = gf.components\n",
    "\n",
    "q, v, p, phat, fa1, fa2  = fes.TrialFunction()\n",
    "dv, dp, du1, du2, dlagsym, da, daprime = festest.TestFunction()\n",
    "\n",
    "dvert = DifferentialSymbol(BBBND)"
   ]
  },
  {
   "cell_type": "code",
   "execution_count": null,
   "id": "b147d593-ff62-47e2-958d-457d74f0d78f",
   "metadata": {
    "scrolled": true
   },
   "outputs": [],
   "source": [
    "tau = 0.001\n",
    "P0 = CF( (0, 0, 0) )\n",
    "PA0 = CF( (0, 1, 0)) \n",
    "\n",
    "gfphat.Set ( rho*Cross (omega0, CF((x,y,z))) , definedon=mesh.Boundaries(\".*\") )\n",
    "\n",
    "force = CF( (0,0,-9.81*rho) )\n",
    "dpointA = da\n",
    "dpointAprime = daprime\n",
    "qold.Set ( (x, y, z) )\n",
    "\n",
    "Rnew = MyGrad(q)\n",
    "Rold = MyGradB(qold)\n",
    "Rmean = 0.5*(Rold+Rnew)\n",
    "\n",
    "a = BilinearForm(trialspace=fes, testspace=festest)\n",
    "\n",
    "# linear part of q is orthogonal:\n",
    "a += InnerProduct (Rnew.trans*Rnew-Id(3), dlagsym) * ds \n",
    "\n",
    "# p = rho*v\n",
    "a += (rho*v-p)*dv * ds\n",
    "\n",
    "# dot q = v\n",
    "# a += (Rmean.trans * (q - qold) - tau*v) * dp  * ds\n",
    "a += (qold + tau/2 * Rold*v - (q-tau/2*Rnew*v) ) * (Rmean*dp) * ds\n",
    "# dot p = f\n",
    "a += ((Rnew*phat-Rmean*p) - tau/2*force) * (Rnew*du1) * ds\n",
    "a += ((Rmean*p-Rold*phatold) - tau/2*force) * (Rold*du2) * ds\n",
    "\n",
    "# forces from Lagrange parameters, in t_n and t_{n+t}:\n",
    "a += ( (- tau/2*fa1 ) * (Rnew*du1)) *dvert(\"A\")\n",
    "a += ( (- tau/2*fa2 ) * (MyGradBB(qold)*du2)) *dvert(\"A\")\n",
    "\n",
    "# constraints and velocity constraints:\n",
    "a += (q-P0)*dpointA* dvert(\"A\")\n",
    "a += (phat)*dpointAprime * dvert(\"A\")"
   ]
  },
  {
   "cell_type": "code",
   "execution_count": null,
   "id": "e90a0915-f471-4379-89b3-d3721e081532",
   "metadata": {
    "scrolled": true
   },
   "outputs": [],
   "source": [
    "# tricky to set initial conditions, since mass matrix alone is singular \n",
    "# gfq.Set ( (x, y, z), definedon=mesh.Boundaries(\".*\")  )\n",
    "qs,dqs = P1space.TnT()\n",
    "bfset = BilinearForm(qs*dqs*ds + qs.Operator(\"dy\")*dqs.Operator(\"dy\")*ds).Assemble()\n",
    "lfset = LinearForm(CF((x,y,z))*dqs*ds + CF((0,1,0))*dqs.Operator(\"dy\")*ds).Assemble()\n",
    "gfq.vec[:] = bfset.mat.Inverse()*lfset.vec\n",
    "\n",
    "scene = Draw (gf.components[1], mesh, deformation=(gf.components[0]-CF((x,y,z))), center=(0,0,0), radius=1.2)\n",
    "\n",
    "tw = widgets.Text(value='t = 0')\n",
    "display(tw)"
   ]
  },
  {
   "cell_type": "code",
   "execution_count": null,
   "id": "e219b06e-9d9a-49b8-8d80-6f9e30fbd557",
   "metadata": {},
   "outputs": [],
   "source": [
    "t = 0\n",
    "tt = []\n",
    "Epott = []\n",
    "Ekint = []\n",
    "Et = []\n",
    "axt, ayt, azt = [], [], []\n",
    "# with TaskManager(): # pajetrace=10**9):\n",
    "while t < 100-1e-10:\n",
    "    gfold.vec[:] = gf.vec\n",
    "    Newton(a=a, u=gf, printing=False, inverse=directsolvers.SuperLU, maxerr=1e-8)\n",
    "    scene.Redraw()\n",
    "    t += tau\n",
    "    tw.value = \"t = {t:.2f}\".format(t=t)\n",
    "    Epot = -Integrate (gfq*force*ds, mesh)\n",
    "    Ekin = Integrate (rho/2*gfv*gfv*ds, mesh)\n",
    "    tt.append(t)\n",
    "    Epott.append(Epot)\n",
    "    Ekint.append(Ekin)\n",
    "    axt.append (Integrate(gfq[0]*ds, mesh)/(4*b**2))\n",
    "    ayt.append (Integrate(gfq[1]*ds, mesh)/(4*b**2))\n",
    "    azt.append (Integrate(gfq[2]*ds, mesh)/(4*b**2))\n",
    "    Et.append(Epot+Ekin)      "
   ]
  },
  {
   "cell_type": "code",
   "execution_count": null,
   "id": "2362fc83-cab3-4e24-ac81-10c05d09b4ea",
   "metadata": {},
   "outputs": [],
   "source": [
    "import matplotlib.pyplot as plt\n",
    "plt.plot (tt, Ekint, label=\"kinetic\")\n",
    "plt.plot (tt, Epott, label=\"potential\")\n",
    "plt.plot (tt, Et, label=\"total\")\n",
    "plt.legend()\n",
    "plt.title(\"energies\")\n",
    "plt.show()\n",
    "\n",
    "plt.plot (tt, Et)\n",
    "plt.title(\"total energy\")\n",
    "plt.show()\n",
    "\n",
    "plt.plot (tt, axt, label=\"x\")\n",
    "plt.plot (tt, ayt, label=\"y\")\n",
    "plt.plot (tt, azt, label=\"z\")\n",
    "plt.legend()\n",
    "plt.show()\n",
    "\n",
    "print (axt[-1], ayt[-1], azt[-1])"
   ]
  },
  {
   "cell_type": "markdown",
   "id": "9261a76b-5a88-4424-8e62-b7e45f50294b",
   "metadata": {},
   "source": [
    "Values at $t=1$:\n",
    "| $\\tau$ | $A_x$ | $A_y$ | $A_z$ |\n",
    "|--------|-------|-------|-------|\n",
    "| 4e-3   | -0.08166 | -0.09591 | -0.99203 |\n",
    "| 2e-3   | 0.18651 |  0.53720 | -0.82258 |\n",
    "| 1e-3   | 0.17802 |  0.61715 | -0.76642 | \n",
    "| 5e-4   | 0.17458 |  0.63451 | -0.75294 | \n",
    "| 2.5e-4  | 0.17366 |  0.63870 | -0.74960 |\n",
    "\n",
    "\n",
    "with improved velocity integration:\n",
    "\n",
    "| $\\tau$ | $A_x$ | $A_y$ | $A_z$ |\n",
    "|--------|-------|-------|-------|\n",
    "| 4e-3   | 0.17592 | 0.62806 | -0.75802|\n",
    "| 2e-3   | 0.17396 |  0.63734  | -0.75069 |\n",
    "| 1e-3   | 0.173497 | 0.639414  | -0.749032 | \n",
    "| 5e-4   | 0.173382 | 0.639921 | -0.748626 | \n",
    "| 2.5e-4  | 0.173353 | 0.640047 | -0.748524 |"
   ]
  },
  {
   "cell_type": "code",
   "execution_count": null,
   "id": "81bf56e8-5c5d-4ba8-8efc-c89c2dfff3ec",
   "metadata": {},
   "outputs": [],
   "source": []
  },
  {
   "cell_type": "code",
   "execution_count": null,
   "id": "9bafb920-1d67-4239-b11c-5a1d32389ec6",
   "metadata": {},
   "outputs": [],
   "source": []
  }
 ],
 "metadata": {
  "kernelspec": {
   "display_name": "Python 3 (ipykernel)",
   "language": "python",
   "name": "python3"
  },
  "language_info": {
   "codemirror_mode": {
    "name": "ipython",
    "version": 3
   },
   "file_extension": ".py",
   "mimetype": "text/x-python",
   "name": "python",
   "nbconvert_exporter": "python",
   "pygments_lexer": "ipython3",
   "version": "3.13.0"
  }
 },
 "nbformat": 4,
 "nbformat_minor": 5
}
