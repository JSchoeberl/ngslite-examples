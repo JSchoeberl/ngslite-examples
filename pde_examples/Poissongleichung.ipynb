{
 "cells": [
  {
   "cell_type": "markdown",
   "id": "88cfcd75",
   "metadata": {},
   "source": [
    "# Eine kleine Einführung in Partielle Differentialgleichungen und die Finite Elemente Methode\n",
    "\n",
    "\n",
    "Wir wollen die Poisson-Gleichung lösen:\n",
    "\n",
    "Gegeben ist eine offene Menge $D \\subset {\\mathbb R}^2$ und eine Funktion $f : D \\rightarrow {\\mathbb R}$. \n",
    "\n",
    "Gesucht ist die Funktion $u : D \\rightarrow {\\mathbb R}$ sodass\n",
    "\n",
    "$$\n",
    "\\Delta u (x,y) = f(x,y) \\quad \\forall \\, (x,y) \\in D,\n",
    "$$\n",
    "\n",
    "wobei der Laplace-Operator definiert ist als\n",
    "\n",
    "$$\n",
    "\\Delta u (x,y) = \n",
    "\\frac{\\partial^2 u}{\\partial x^2}(x,y) + \\frac{\\partial^2 u}{\\partial y^2}(x,y)\n",
    "$$\n",
    "\n",
    "Die Lösung ist eindeutig wenn noch Randbedingungen gefordert werden:\n",
    "\n",
    "$$\n",
    "u(x,y) = 0 \\quad \\forall \\, (x,y) \\in \\partial D\n",
    "$$\n",
    "\n",
    "Mit solchen **Partiellen Differentialgleichungen** können viele Aufgabenstellungen in den Naturwissenschaften, in technischen Anwendungen, als auch in der Finanzmathematik modelliert werden. Eine exakte Lösung zu finden ist oft nicht möglich, und man berechnet mit Computereinsatz näherungsweise Lösungen (Numerik)."
   ]
  },
  {
   "cell_type": "markdown",
   "id": "b560e3ea",
   "metadata": {},
   "source": [
    "## Approximation von Funktionen auf Triangulierungen\n",
    "\n",
    "Wir verwenden dazu das Python - Paket NGSolve (www.ngsolve.org).\n",
    "\n",
    "Wir wollen zuerst ein paar einfache numerische Operationen (differenzieren, integrieren) mit Funktionen durchführen:"
   ]
  },
  {
   "cell_type": "code",
   "execution_count": null,
   "id": "182a864e",
   "metadata": {},
   "outputs": [],
   "source": [
    "from ngsolve import *\n",
    "from ngsolve.webgui import Draw\n",
    "mesh = Mesh(unit_square.GenerateMesh(maxh=0.05))"
   ]
  },
  {
   "cell_type": "markdown",
   "id": "d7f740db",
   "metadata": {},
   "source": [
    "Wir verwenden die Funktion (ein *Gaussian-peak*):\n",
    "\n",
    "$$\n",
    "f(x,y) = \\exp (-100 \\, (  (x-\\tfrac{1}{2})^2 + (y-\\tfrac{1}{2})^2 )\n",
    "$$"
   ]
  },
  {
   "cell_type": "code",
   "execution_count": null,
   "id": "63f21486",
   "metadata": {},
   "outputs": [],
   "source": [
    "func = exp(-100* ((x-0.5)**2+(y-0.5)**2))\n",
    "ea = (-60,0,-1)\n",
    "Draw (func, mesh, deformation=True, scale=0.3, euler_angles=ea);"
   ]
  },
  {
   "cell_type": "markdown",
   "id": "a46f7f35",
   "metadata": {},
   "source": [
    "Diese Funktion wird jetzt auf dem Finite-Elemente Netz **interpoliert**: Wir berechnen dazu die Funktionswerte in den Knoten, und ersetzen auf jedem einzelnen Dreieck die komplizierte Funktion durch eine affin-lineare Funktion der Bauart $a + b x + cy$, mit $a,b,c \\in {\\mathbb R}$, und mit den gleichen Funktionswerten in den Knoten."
   ]
  },
  {
   "cell_type": "code",
   "execution_count": null,
   "id": "590e8002",
   "metadata": {},
   "outputs": [],
   "source": [
    "fes = H1(mesh, order=1)\n",
    "gfu = GridFunction(fes)\n",
    "gfu.Interpolate (func)\n",
    "Draw (gfu, deformation=True, scale=0.3, euler_angles=ea);"
   ]
  },
  {
   "cell_type": "markdown",
   "id": "b915419f",
   "metadata": {},
   "source": [
    "## Berechnung von Integralen:\n",
    "\n",
    "Wir wollen nun das Integral \n",
    "\n",
    "$$\n",
    "\\int_D f(x,y) \\, d(x,y)\n",
    "$$\n",
    "\n",
    "berechnen. Das ist das Volumen unter dem Graphen der Funktion. \n",
    "\n",
    "Wir nutzen die interpolierte Funktion um das Integral näherungsweise (numerisch) zu berechnen: Wir ersetzen die Funktion durch das arithmetische Mittel der Werte in den Eckpunkten, berechnen das Volumen dieses Prismas nach Grundfläche $\\times$ Höhe, und summieren über alle Dreiecke:\n",
    "\n",
    "$$\n",
    "\\sum_{\\text{Dreiecke}\\, T}  \\text{Fläche(T)} \\sum_{\\text{Eckpunkte}\\, x_i} \\frac{f(x_i)}{3}\n",
    "$$"
   ]
  },
  {
   "cell_type": "code",
   "execution_count": null,
   "id": "98b0ad8d",
   "metadata": {},
   "outputs": [],
   "source": [
    "Integrate (gfu, mesh)"
   ]
  },
  {
   "cell_type": "markdown",
   "id": "f4392d21",
   "metadata": {},
   "source": [
    "Um die Genauigkeit zu erhöhen können wir ein feineres Netz verwenden. Eine effizientere Alternative ist es nicht mit affin-linearen, sondern mit Polynomen höherer Ordnung zu interpolieren:"
   ]
  },
  {
   "cell_type": "code",
   "execution_count": null,
   "id": "91f1ddb0",
   "metadata": {},
   "outputs": [],
   "source": [
    "fes = H1(mesh, order=3, dirichlet=\".*\")\n",
    "gfu = GridFunction(fes)\n",
    "gfu.Interpolate (func)\n",
    "Draw (gfu, deformation=True, scale=0.3, euler_angles=ea);"
   ]
  },
  {
   "cell_type": "code",
   "execution_count": null,
   "id": "22584c77",
   "metadata": {},
   "outputs": [],
   "source": [
    "Integrate (gfu, mesh)"
   ]
  },
  {
   "cell_type": "markdown",
   "id": "0b4bf34d",
   "metadata": {},
   "source": [
    "Der Fehler zum exakten Wert $\\pi/100$ beträgt:"
   ]
  },
  {
   "cell_type": "code",
   "execution_count": null,
   "id": "15f32bde",
   "metadata": {},
   "outputs": [],
   "source": [
    "Integrate (gfu, mesh) - pi/100"
   ]
  },
  {
   "cell_type": "markdown",
   "id": "972cdb95",
   "metadata": {},
   "source": [
    "## Berechnung von partiellen Ableitungen:\n",
    "\n",
    "Wir wollen die partiellen Ableitungen\n",
    "\n",
    "$$\n",
    "\\frac{\\partial f}{\\partial x} (x,y) = \\lim_{\\varepsilon \\rightarrow 0} \\frac{f(x+\\varepsilon,y) - f(x,y) }{\\varepsilon}\n",
    "$$\n",
    "und\n",
    "$$\n",
    "\\frac{\\partial f}{\\partial y} (x,y) = \\lim_{\\varepsilon \\rightarrow 0} \\frac{f(x, y+\\varepsilon) - f(x,y) }{\\varepsilon}\n",
    "$$\n",
    "\n",
    "berechnen. Das sind die Steigungen der Funktion in $x$- bzw. in $y$-Richtung. Beide partiellen Ableitungen als Vektor geschrieben wird als **Gradient** bezeichnet:\n",
    "\n",
    "$$\n",
    "\\nabla f := \\operatorname{grad} \\, f := \\left( \\frac{ \\partial f}{\\partial x}, \\frac{\\partial f}{\\partial y} \\right)\n",
    "$$"
   ]
  },
  {
   "cell_type": "code",
   "execution_count": null,
   "id": "975abb04",
   "metadata": {},
   "outputs": [],
   "source": [
    "print (\"df/dx:\")\n",
    "Draw (grad(gfu)[0], mesh)\n",
    "print (\"df/dy:\")\n",
    "Draw (grad(gfu)[1], mesh);"
   ]
  },
  {
   "cell_type": "markdown",
   "id": "689fcce1",
   "metadata": {},
   "source": [
    "Und gleich der Gradient als Vektor gezeichnet, dargestellt durch Kegel: Die Spitze zeigt in in Richtung des steilsten Anstieges. Die Farbe entspricht der Norm des Gradienten, $\\| \\nabla f \\|$, das ist die Steigung:"
   ]
  },
  {
   "cell_type": "code",
   "execution_count": null,
   "id": "2da1c71c",
   "metadata": {},
   "outputs": [],
   "source": [
    "Draw (grad(gfu), mesh, vectors={\"grid_size\":50});"
   ]
  },
  {
   "cell_type": "markdown",
   "id": "7129502f",
   "metadata": {},
   "source": [
    "# Projektion auf Teilräume\n",
    "\n",
    "Wir wollen jetzt die gegebene Funktion nicht durch Interpolation annähern, sondern durch orthogonale Projektion bzgl. eines Skalarproduktes.\n",
    "\n",
    "Sei $(V, \\left<.,.\\right>)$ ein Euklidscher Vektorraum, und $V_h \\subset V$ ein linearer Teilraum. Für $u \\in V$ ist die orthogonale Projektion $Pu \\in V_h$ auf den Teilraum definiert sodass:\n",
    "\n",
    "$$\n",
    "\\left< u - Pu, v \\right> = 0\\quad \\forall \\, v_h \\in V_h\n",
    "$$\n",
    "\n",
    "Der Projektionsfehler $u - Pu$ steht orthogonal auf den Teilraum selbst. Diese Projektionsaufgabe können wir auch schreiben als:\n",
    "\n",
    "$$\n",
    "\\text{Ges.:} \\; u_h \\in V_h : \\left< u_h, v_h \\right> = \\left< u, v_h \\right> \\quad \\forall \\, v_h \\in V_h\n",
    "$$\n",
    "\n",
    "Das Skalarprodukt auf der linken Seite ist bilinear, d.h. linear in beiden Argumenten. Darum wird es auch *Bilinearform* genannt:\n",
    "\n",
    "$$\n",
    "A : V \\times V \\rightarrow {\\mathbb R} : \\quad A(u,v) = \\left< u, v \\right>\n",
    "$$\n",
    "\n",
    "Für ein gegebenes, festes $u$ ist der Term auf der rechten Seite linear in $v$, also eine *Linearform*:\n",
    "\n",
    "$$\n",
    "f : V \\rightarrow {\\mathbb R} : \\quad f(v) = \\left< u, v \\right>\n",
    "$$\n",
    "\n",
    "Das Problem lautet nun:\n",
    "\n",
    "$$\n",
    "\\text{Ges.:} \\; u_h \\in V_h : A(u_h, v_h) = f(v_h) \\quad \\forall \\, v_h \\in V_h\n",
    "$$\n",
    "\n",
    "\n",
    "Wir verwenden für die Projektion das $L_2$ Skalarprodukt:\n",
    "\n",
    "$$\n",
    "\\left< u, v \\right>_{L_2(D)} := \\int_D u(x,y) \\, v(x,y) \\, d(x,y)\n",
    "$$\n",
    "\n",
    "Dieses Skalarprodukt kann in NGSolve als `u*v*dx` angegeben werden. Die Projektion wird durch Aufstellen (Assemblierung) und Lösen eines linearen Gleichungssystems berechnet:"
   ]
  },
  {
   "cell_type": "code",
   "execution_count": null,
   "id": "a38bb85f",
   "metadata": {},
   "outputs": [],
   "source": [
    "fes = H1(mesh, order=2)\n",
    "u,v = fes.TnT()\n",
    "\n",
    "A = BilinearForm(u*v*dx).Assemble().mat\n",
    "f = LinearForm(func*v*dx).Assemble().vec\n",
    "\n",
    "gfu = GridFunction(fes)\n",
    "gfu.vec.data = A.Inverse() * f"
   ]
  },
  {
   "cell_type": "code",
   "execution_count": null,
   "id": "8547456d",
   "metadata": {},
   "outputs": [],
   "source": [
    "Draw (gfu, deformation=True, scale=0.3, euler_angles=ea);"
   ]
  },
  {
   "cell_type": "markdown",
   "id": "aa3e1635",
   "metadata": {},
   "source": [
    "Die berechnete Funktion minimiert den Fehler in der $L_2$-Norm:\n",
    "\n",
    "$$\n",
    "\\| u - u_h \\|_{L_2} = \\min_{v_h \\in V_h} \\| u - v_h \\|_{L_2}\n",
    "$$"
   ]
  },
  {
   "cell_type": "code",
   "execution_count": null,
   "id": "81c0b5d1",
   "metadata": {},
   "outputs": [],
   "source": [
    "sqrt(sqrt (Integrate ( (gfu-func)**2, mesh)))"
   ]
  },
  {
   "cell_type": "markdown",
   "id": "3822a2a2",
   "metadata": {},
   "source": [
    "Die Berechnung der Projektion funktioniert so:\n",
    "\n",
    "Wir wählen eine Basis $p_i$ für den Vektorraum $V_h$. Da $V_h$ ein Vektorraum von Funktionen ist, sind diese Basiselemente ebenfalls Funktionen $p_i(x,y)$. Im einfachsten Fall wählt man Funktionen die in einem Knoten 1 sind, in allen anderen 0, und dazwischen linear interpoliert:"
   ]
  },
  {
   "cell_type": "code",
   "execution_count": null,
   "id": "f949f6cb",
   "metadata": {},
   "outputs": [],
   "source": [
    "first = 200\n",
    "num = 20\n",
    "gf = GridFunction(fes, multidim=num)\n",
    "for i in range(num):\n",
    "    gf.vecs[i][:] = 0\n",
    "    gf.vecs[i][first+i] = 1\n",
    "scene = Draw (gf, mesh, deformation=True, animate=True, scale=0.1, euler_angles=[-60,5,60]);"
   ]
  },
  {
   "cell_type": "markdown",
   "id": "37a26a3b",
   "metadata": {},
   "source": [
    "Wir stellen die gesucht Lösung in dieser Basis dar (mit $N = \\dim V_h$):\n",
    "\n",
    "$$\n",
    "u_h(x,y) = \\sum_{i=1}^{N} u_i {\\bf p}_i(x,y)\n",
    "$$\n",
    "\n",
    "Der Koeffizientenvektor $u = (u_1, \\ldots u_n) \\in {{\\mathbb R}^N}$ wird durch die Projektionseigenschaft bestimmt: \n",
    "\n",
    "$$\n",
    "A( \\sum u_i {\\bf p}_i, {\\bf p}_j ) = f( {\\bf p}_j ) \\quad \\forall \\, j = 1, \\ldots N\n",
    "$$\n",
    "\n",
    "Wir nutzen die Linearität von $A(.,.)$\n",
    "\n",
    "$$\n",
    "\\sum_{i=1}^N A({\\bf p}_i, {\\bf p}_j ) \\; u_i = f( {\\bf p}_j ) \\quad \\forall \\, j = 1, \\ldots N,\n",
    "$$\n",
    "\n",
    "und erhalten das lineare Gleichungssystem für den Koeffizientenvektor $u$\n",
    "\n",
    "$$\n",
    "A u = f,\n",
    "$$\n",
    "\n",
    "mit den Einträgen der Matrix A und des rechte-Seite Vektors f:\n",
    "\n",
    "\\begin{eqnarray*}\n",
    "A_{j,i} & = & A(p_i, p_j) = \\int p_i p_j \\, d(x,y) \\\\\n",
    "f_j & = & f(p_j) = \\int u \\, p_j \\, d(x,y)\n",
    "\\end{eqnarray*}\n"
   ]
  },
  {
   "cell_type": "markdown",
   "id": "40d2a16b",
   "metadata": {},
   "source": [
    "## Projektion mit dem $H^1$-Skalarprodukt\n",
    "\n",
    "Wir kehren zurück zur Poisson-Gleichung:\n",
    "\n",
    "Gesucht ist die Funktion $u(x,y)$ sodass:\n",
    "\n",
    "$$\n",
    "\\Delta u(x,y) = f(x,y) \\quad \\forall \\, (x,y) \\in D\n",
    "$$\n",
    "\n",
    "und \n",
    "\n",
    "$$\n",
    "u(x,y) = 0 \\qquad \\forall \\, (x,y) \\in \\partial D\n",
    "$$\n",
    "\n",
    "Wir wollen die Projektion $u_h = P u$ der unbekannten Funktion $u$ auf den endlich-dimensionalen Raum $V_h$ berechnen. Als Skalarprodukt wählen wir jetzt (der Raum $H^1$ heißt Sobolev-Raum und ist ein Hilbert-Raum):\n",
    "\n",
    "$$\n",
    "\\left< u, v \\right>_{H^1} = \\int_D \\nabla u \\cdot \\nabla v \\; d(x,y),\n",
    "$$\n",
    "\n",
    "wobei die Notation $\\nabla u \\cdot \\nabla v = \\left< \\nabla u, \\nabla v\\right>_{{\\mathbb R}^2}$ verwendet wird.\n",
    "Analog zu oben bestimmen wir die Matrix $A$ mit Einträgen\n",
    "\n",
    "$$\n",
    "A_{ij} = \\int_D \\nabla p_i \\cdot \\nabla p_j \\, d(x,y)\n",
    "$$\n",
    "\n",
    "und den Vektor $f$ mit Einträgen\n",
    "\n",
    "$$\n",
    "f_j = \\int_D \\nabla u \\cdot \\nabla p_j \\, d(x,y) \n",
    "$$\n",
    "\n",
    "Die Pointe ist dass dieser Vektor $f$ OHNE die unbekannte Funktion berechnet werden kann. Dazu nutzen wir die Green'sche Formel, ähnlich zur partiellen Integration:\n",
    "\n",
    "$$\n",
    "\\int_D \\nabla u \\cdot \\nabla p_j \\, d(x,y) =\n",
    "-\\int_D \\underbrace{\\Delta u}_{f} \\, p_j \\, d(x,y) + \\int_{\\partial D} \\nabla u \\cdot \\nu \\, p_j \n",
    "$$\n",
    "\n",
    "Hier steht nun die gegebene Funktion $f = \\Delta u$, die Terme am Rand $\\partial D$ verschwinden wegen der Randbedingung $u = 0$. "
   ]
  },
  {
   "cell_type": "code",
   "execution_count": null,
   "id": "f5c03c35",
   "metadata": {},
   "outputs": [],
   "source": [
    "fes = H1(mesh, order=3, dirichlet=\".*\")\n",
    "u,v = fes.TnT()\n",
    "\n",
    "A = BilinearForm(grad(u)*grad(v)*dx).Assemble().mat\n",
    "f = LinearForm(100*func*v*dx).Assemble().vec\n",
    "\n",
    "gfu = GridFunction(fes)\n",
    "gfu.vec.data = A.Inverse(fes.FreeDofs()) * f\n",
    "\n",
    "Draw(gfu, deformation=True, scale=0.5, euler_angles=ea);"
   ]
  },
  {
   "cell_type": "markdown",
   "id": "dfc3c649",
   "metadata": {},
   "source": [
    "Zur Kontrolle berechnen wir $-\\Delta u_h$:\n",
    "\n",
    "Wir verwenden dazu die Hesse-Matrix\n",
    "$$\n",
    "\\left( \\begin{array}{cc}\n",
    "      \\frac{\\partial^2 u}{\\partial x^2}  & \\frac{\\partial^2 u}{\\partial x \\partial y}  \\\\\n",
    "      \\frac{\\partial^2 u}{\\partial x \\partial y}  & \\frac{\\partial^2 u}{\\partial y^2}\n",
    "    \\end{array} \\right)\n",
    "$$\n",
    "und die Spur (engl: trace) einer Matrix als Summer der Diagonaleinträge:"
   ]
  },
  {
   "cell_type": "code",
   "execution_count": null,
   "id": "89d71c4a",
   "metadata": {},
   "outputs": [],
   "source": [
    "Draw (-Trace(gfu.Operator(\"hesse\")), mesh, scale=0.003, deformation=True, euler_angles=ea);"
   ]
  },
  {
   "cell_type": "markdown",
   "id": "33d9a26b",
   "metadata": {},
   "source": [
    "# Ein paar weitere Differentialgleichungen:\n",
    "* [Elastizität](elasticity3D.ipynb) beschreibt die Deformation elastischer Obejekte\n",
    "* [Navier-Stokes Gleichung](navierstokes.ipynb) beschreiben die Strömung inkompressibler Flüssigkeiten\n",
    "* [Maxwell'schen Gleichungen](coil.ipynb) beschreiben die Interaktion von elektrischen und magnetischen Feldern"
   ]
  },
  {
   "cell_type": "code",
   "execution_count": null,
   "id": "332218d8",
   "metadata": {},
   "outputs": [],
   "source": []
  }
 ],
 "metadata": {
  "kernelspec": {
   "display_name": "Python 3 (ipykernel)",
   "language": "python",
   "name": "python3"
  },
  "language_info": {
   "codemirror_mode": {
    "name": "ipython",
    "version": 3
   },
   "file_extension": ".py",
   "mimetype": "text/x-python",
   "name": "python",
   "nbconvert_exporter": "python",
   "pygments_lexer": "ipython3",
   "version": "3.13.1"
  }
 },
 "nbformat": 4,
 "nbformat_minor": 5
}
