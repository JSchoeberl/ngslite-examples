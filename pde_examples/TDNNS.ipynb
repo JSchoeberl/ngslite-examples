{
 "cells": [
  {
   "cell_type": "markdown",
   "id": "837fb081-2bf9-4afc-98d6-3c155f4d9653",
   "metadata": {},
   "source": [
    "# TDNNS - Linear elasticity"
   ]
  },
  {
   "cell_type": "code",
   "execution_count": null,
   "id": "1a50dd92-ae0e-4250-ae6c-63814aacc56a",
   "metadata": {},
   "outputs": [],
   "source": [
    "import ngsolve\n",
    "print (ngsolve.__version__)"
   ]
  },
  {
   "cell_type": "code",
   "execution_count": null,
   "id": "5ad26dd8-2a62-4649-8901-4a532d6d2a52",
   "metadata": {},
   "outputs": [],
   "source": [
    "from ngsolve import *\n",
    "from ngsolve.webgui import Draw\n",
    "from netgen.occ import *\n",
    "\n",
    "shape = MoveTo(0,0).Line(48,44).Line(0,16,name=\"right\").Line(-48,-16).Close(name=\"fix\").Face()\n",
    "Draw (shape)\n",
    "mesh = Mesh(OCCGeometry(shape,dim=2).GenerateMesh(maxh=5))\n",
    "\n",
    "Draw (mesh);"
   ]
  },
  {
   "cell_type": "code",
   "execution_count": null,
   "id": "613d5f22-2e4b-4fda-95cd-151e9fbf39f2",
   "metadata": {},
   "outputs": [],
   "source": [
    "order=2\n",
    "\n",
    "fesu = HCurl(mesh, order=order+1, type1=True, dirichlet=\"fix\")\n",
    "fessigma = HDivDiv(mesh, order=order, plus=True, dirichlet=\"default|right\")\n",
    "fes = fesu*fessigma\n",
    "\n",
    "(u,sigma), (du,dsigma) = fes.TnT()\n",
    "n = specialcf.normal(2)"
   ]
  },
  {
   "cell_type": "code",
   "execution_count": null,
   "id": "f727467f-f776-42ac-abb7-01cbffc86fd5",
   "metadata": {},
   "outputs": [],
   "source": [
    "E = 70e6\n",
    "nu = 1/3\n",
    "\n",
    "# plane strain:\n",
    "def Strain(stress, E,nu):\n",
    "    return (1+nu)/E * stress - nu/E*Trace(stress)*Id(2)"
   ]
  },
  {
   "cell_type": "code",
   "execution_count": null,
   "id": "93c23255-c548-478c-88cd-d0e93f8aabf2",
   "metadata": {},
   "outputs": [],
   "source": [
    "def Div(sigma,v):\n",
    "    return InnerProduct(-Grad(v),sigma)*dx + InnerProduct(v*n,sigma[n,n])*dx(element_boundary=True)\n",
    "\n",
    "term = InnerProduct(-Strain(sigma,E,nu),dsigma)*dx + Div(dsigma,u) + Div(sigma,du)\n",
    "a = BilinearForm(term).Assemble()\n",
    "\n",
    "traction = CF((0,-6.25e6))\n",
    "f = LinearForm(fes)\n",
    "f += traction*du.Trace()*ds(\"right\")\n",
    "f.Assemble()\n",
    "\n",
    "gf = GridFunction(fes)\n",
    "gf.vec.data = a.mat.Inverse(fes.FreeDofs()) * f.vec\n",
    "gfu, gfsigma = gf.components"
   ]
  },
  {
   "cell_type": "code",
   "execution_count": null,
   "id": "7ae73240-1078-4ee8-9d22-2b8831f23d57",
   "metadata": {},
   "outputs": [],
   "source": [
    "Draw (gfu[1],mesh, deformation=0.2*gfu, order=5);"
   ]
  },
  {
   "cell_type": "code",
   "execution_count": null,
   "id": "2102d39a-145e-4a20-bd89-184c99a76ecb",
   "metadata": {},
   "outputs": [],
   "source": [
    "Draw (gfsigma[0,0], mesh, min=-20e6, max=20e6);"
   ]
  },
  {
   "cell_type": "code",
   "execution_count": null,
   "id": "169dec09-561f-4730-bc82-9e8ab5b0e143",
   "metadata": {},
   "outputs": [],
   "source": [
    "gfu(mesh(48, 60)) "
   ]
  },
  {
   "cell_type": "code",
   "execution_count": null,
   "id": "80352fd4-fa9c-446a-82dc-fd169d13809b",
   "metadata": {},
   "outputs": [],
   "source": [
    "fesu.ndof, fessigma.ndof"
   ]
  },
  {
   "cell_type": "code",
   "execution_count": null,
   "id": "1299fc82-6009-426e-899a-1afb4cd1f260",
   "metadata": {},
   "outputs": [],
   "source": [
    "mesh.GetNE(VOL), mesh.nedge, mesh.nv"
   ]
  },
  {
   "cell_type": "code",
   "execution_count": null,
   "id": "8254deb2-d7c3-42f7-a21c-905160f92bf4",
   "metadata": {},
   "outputs": [],
   "source": [
    "\"order 1 dofs\", 2*mesh.nedge+2*mesh.GetNE(VOL),  2*mesh.nedge+5*mesh.GetNE(VOL)"
   ]
  },
  {
   "cell_type": "code",
   "execution_count": null,
   "id": "03059f9c-bcd0-4e01-b0f1-3a795fb80a34",
   "metadata": {},
   "outputs": [],
   "source": [
    "\"order 2 dofs\", 3*mesh.nedge+6*mesh.GetNE(VOL),  3*mesh.nedge+13*mesh.GetNE(VOL)"
   ]
  },
  {
   "cell_type": "raw",
   "id": "921fa3c8-22f4-4025-84d1-3acf10a8a537",
   "metadata": {},
   "source": [
    "order=1,h=5: (26.9514,-35.9740)\n",
    "order=2,h=5: (26.9757,-35.9510)\n",
    "order=2,h=2.5: (27.0034,-35.9660)\n",
    "order=3,h=5: (26.9833,-35.9529)\n",
    "order=4,h=5, (27.0030,-35.9658)"
   ]
  },
  {
   "cell_type": "code",
   "execution_count": null,
   "id": "ef815d6b-8a52-409e-84e3-bd505abe1bfa",
   "metadata": {},
   "outputs": [],
   "source": []
  }
 ],
 "metadata": {
  "kernelspec": {
   "display_name": "Python 3 (ipykernel)",
   "language": "python",
   "name": "python3"
  },
  "language_info": {
   "codemirror_mode": {
    "name": "ipython",
    "version": 3
   },
   "file_extension": ".py",
   "mimetype": "text/x-python",
   "name": "python",
   "nbconvert_exporter": "python",
   "pygments_lexer": "ipython3",
   "version": "3.13.7"
  }
 },
 "nbformat": 4,
 "nbformat_minor": 5
}
