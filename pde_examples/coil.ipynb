{
 "cells": [
  {
   "cell_type": "markdown",
   "id": "32fa5833",
   "metadata": {},
   "source": [
    "# Magnetostatics\n",
    "\n",
    "Computing the magnetic field induced by a wire coil\n",
    "\n",
    "* first, we solve an electric conductivity problem in the wire\n",
    "* then, we use the computed current to solve (a reduced) Maxwell equation"
   ]
  },
  {
   "cell_type": "code",
   "execution_count": 1,
   "id": "2fdb3307",
   "metadata": {},
   "outputs": [],
   "source": [
    "from netgen.occ import *\n",
    "from ngsolve import *\n",
    "from ngsolve.webgui import Draw"
   ]
  },
  {
   "cell_type": "markdown",
   "id": "dc952d2a",
   "metadata": {},
   "source": [
    "## model of the coil:"
   ]
  },
  {
   "cell_type": "code",
   "execution_count": 2,
   "id": "10a2b96b",
   "metadata": {},
   "outputs": [],
   "source": [
    "cyl = Cylinder((0,0,0), Z, r=0.01, h=0.03).faces[0]\n",
    "heli = Edge(Segment((0,0), (12*pi, 0.03)), cyl)\n",
    "ps = heli.start\n",
    "vs = heli.start_tangent\n",
    "pe = heli.end\n",
    "ve = heli.end_tangent\n",
    "\n",
    "e1 = Segment((0,0,-0.03), (0,0,-0.01))\n",
    "c1 = BezierCurve( [(0,0,-0.01), (0,0,0), ps-vs, ps])\n",
    "e2 = Segment((0,0,0.04), (0,0,0.06))\n",
    "c2 = BezierCurve( [pe, pe+ve, (0,0,0.03), (0,0,0.04)])\n",
    "spiral = Wire([e1, c1, heli, c2, e2])\n",
    "circ = Face(Wire([Circle((0,0,-0.03), Z, 0.001)]))\n",
    "coil = Pipe(spiral, circ)\n",
    "\n",
    "coil.faces.maxh=0.2\n",
    "coil.faces.name=\"coilbnd\"\n",
    "coil.faces.Max(Z).name=\"in\"\n",
    "coil.faces.Min(Z).name=\"out\"\n",
    "coil.faces.col=(184/256, 115/256, 51/256)\n",
    "coil.mat(\"coil\")\n",
    "crosssection = coil.faces.Max(Z).mass"
   ]
  },
  {
   "cell_type": "code",
   "execution_count": 3,
   "id": "01d1ff33",
   "metadata": {},
   "outputs": [
    {
     "data": {
      "application/vnd.jupyter.widget-view+json": {
       "model_id": "ea76754a0fdc4f5f9fd211ecc17636b2",
       "version_major": 2,
       "version_minor": 0
      },
      "text/plain": [
       "WebGuiWidget(layout=Layout(height='50vh', width='100%'), value={'ngsolve_version': 'Netgen x.x', 'mesh_dim': 3…"
      ]
     },
     "metadata": {},
     "output_type": "display_data"
    }
   ],
   "source": [
    "ea = { \"euler_angles\" : (-130, -73, 0), \"radius\" : 0.025 }\n",
    "Draw (coil, **ea);"
   ]
  },
  {
   "cell_type": "code",
   "execution_count": 4,
   "id": "ed4c0f9b",
   "metadata": {},
   "outputs": [],
   "source": [
    "box = Box((-0.04,-0.04,-0.03), (0.04,0.04,0.06))\n",
    "box.faces.name = \"outer\"\n",
    "air = box-coil\n",
    "air.mat(\"air\");"
   ]
  },
  {
   "cell_type": "markdown",
   "id": "73262a2c",
   "metadata": {},
   "source": [
    "## mesh-generation of coil and air-box:"
   ]
  },
  {
   "cell_type": "code",
   "execution_count": 5,
   "id": "877f6dc0-5890-43fc-bb93-10d01cae9bc3",
   "metadata": {},
   "outputs": [],
   "source": [
    "geo = OCCGeometry(Glue([coil,air]))\n",
    "with TaskManager():\n",
    "    mesh = Mesh(geo.GenerateMesh(meshsize.coarse, maxh=0.01)).Curve(3)"
   ]
  },
  {
   "cell_type": "code",
   "execution_count": 6,
   "id": "bbe65baa-1a0a-4599-9ba3-ca546fe2fd62",
   "metadata": {},
   "outputs": [
    {
     "data": {
      "application/vnd.jupyter.widget-view+json": {
       "model_id": "f6074d5971994b7f8d577ad86d792525",
       "version_major": 2,
       "version_minor": 0
      },
      "text/plain": [
       "WebGuiWidget(layout=Layout(height='50vh', width='100%'), value={'gui_settings': {'camera': {'euler_angles': (-…"
      ]
     },
     "metadata": {},
     "output_type": "display_data"
    }
   ],
   "source": [
    "clipping = { \"clipping\" : { \"y\":1, \"z\":0, \"dist\":0.012} }\n",
    "Draw (mesh, **clipping, **ea);"
   ]
  },
  {
   "cell_type": "markdown",
   "id": "ef85e116",
   "metadata": {},
   "source": [
    "checking mesh data materials and boundaries:"
   ]
  },
  {
   "cell_type": "code",
   "execution_count": 7,
   "id": "3d349c6a",
   "metadata": {},
   "outputs": [
    {
     "data": {
      "text/plain": [
       "(106357,\n",
       " 18356,\n",
       " ('coil', 'air'),\n",
       " ('out',\n",
       "  'coilbnd',\n",
       "  'coilbnd',\n",
       "  'coilbnd',\n",
       "  'coilbnd',\n",
       "  'coilbnd',\n",
       "  'in',\n",
       "  'outer',\n",
       "  'outer',\n",
       "  'outer',\n",
       "  'outer',\n",
       "  'outer',\n",
       "  'outer'))"
      ]
     },
     "execution_count": 7,
     "metadata": {},
     "output_type": "execute_result"
    }
   ],
   "source": [
    "mesh.ne, mesh.nv, mesh.GetMaterials(), mesh.GetBoundaries()"
   ]
  },
  {
   "cell_type": "markdown",
   "id": "3c9b3192",
   "metadata": {},
   "source": [
    "## Solve a potential problem to determine current density in wire:\n",
    "on the domain $\\Omega_{\\text{coil}}$, solve for potential $\\Phi$ and current density $j$:\n",
    "\n",
    "\\begin{align*}\n",
    "j & = \\sigma \\nabla \\Phi \\\\\n",
    "\\operatorname{div} j & = 0\n",
    "\\end{align*}\n",
    "with electric conductivity $\\sigma$.\n",
    "\n",
    "\n",
    "port boundary conditions: \n",
    "\\begin{align*}\n",
    "\\Phi & = 0  \\qquad \\qquad \\text{on } \\Gamma_{\\text{out}},  \\\\\n",
    "j_n & = \\frac{1}{|\\Gamma_{in}|} \\quad \\qquad \\text{on } \\Gamma_{\\text{in}},\n",
    "\\end{align*}\n",
    "\n",
    "and $j_n=0$ else"
   ]
  },
  {
   "cell_type": "code",
   "execution_count": 8,
   "id": "ce0f3fe4",
   "metadata": {},
   "outputs": [],
   "source": [
    "fespot = H1(mesh, order=3, definedon=mesh.Materials(\"coil\"), dirichlet=\"out\")\n",
    "phi,psi = fespot.TnT()\n",
    "sigma = 58.7e6\n",
    "with TaskManager():\n",
    "    bfa = BilinearForm(sigma*grad(phi)*grad(psi)*dx).Assemble()\n",
    "    inv = bfa.mat.Inverse(freedofs=fespot.FreeDofs(), inverse=\"sparsecholesky\")\n",
    "    lff = LinearForm(1/crosssection*psi*ds(\"in\")).Assemble()\n",
    "    gfphi = GridFunction(fespot)\n",
    "    gfphi.vec.data = inv * lff.vec"
   ]
  },
  {
   "cell_type": "code",
   "execution_count": 9,
   "id": "4a353b78",
   "metadata": {},
   "outputs": [
    {
     "data": {
      "application/vnd.jupyter.widget-view+json": {
       "model_id": "1e1cac284a634b5da5365e746ccf53c5",
       "version_major": 2,
       "version_minor": 0
      },
      "text/plain": [
       "WebGuiWidget(layout=Layout(height='50vh', width='100%'), value={'gui_settings': {'camera': {'euler_angles': (-…"
      ]
     },
     "metadata": {},
     "output_type": "display_data"
    }
   ],
   "source": [
    "Draw (gfphi, draw_vol=False, **clipping, **ea);"
   ]
  },
  {
   "cell_type": "markdown",
   "id": "453d1083",
   "metadata": {},
   "source": [
    "## Solve magnetostatic problem:\n",
    "\n",
    "current source is current from potential equation: find $u \\in H(\\operatorname{curl})$:\n",
    "\n",
    "$$\n",
    "\\int \\mu^{-1} \\operatorname{curl} u \\cdot \\operatorname{curl} v \\, dx =\n",
    "\\int j \\cdot v \\, dx\n",
    "$$\n"
   ]
  },
  {
   "cell_type": "code",
   "execution_count": 10,
   "id": "e9fe77bc",
   "metadata": {},
   "outputs": [
    {
     "name": "stdout",
     "output_type": "stream",
     "text": [
      "HCurl dofs: 552180\n"
     ]
    }
   ],
   "source": [
    "fes = HCurl(mesh, order=2, nograds=True)\n",
    "print (\"HCurl dofs:\", fes.ndof)\n",
    "u,v = fes.TnT()\n",
    "mu = 4*pi*1e-7\n",
    "a = BilinearForm(1/mu*curl(u)*curl(v)*dx+1e-6/mu*u*v*dx)\n",
    "pre = preconditioners.BDDC(a)\n",
    "f = LinearForm(sigma*grad(gfphi)*v*dx(\"coil\"))\n",
    "with TaskManager():\n",
    "    a.Assemble()\n",
    "    f.Assemble()"
   ]
  },
  {
   "cell_type": "code",
   "execution_count": 11,
   "id": "a950e839",
   "metadata": {},
   "outputs": [
    {
     "data": {
      "image/png": "[encoded data removed]",
      "text/plain": [
       "<Figure size 640x480 with 1 Axes>"
      ]
     },
     "metadata": {},
     "output_type": "display_data"
    },
    {
     "data": {
      "text/plain": [
       "<Figure size 640x480 with 0 Axes>"
      ]
     },
     "metadata": {},
     "output_type": "display_data"
    }
   ],
   "source": [
    "inv = solvers.CGSolver(a.mat, pre, plotrates=True)\n",
    "gfu = GridFunction(fes)\n",
    "with TaskManager():\n",
    "    gfu.vec.data = inv * f.vec"
   ]
  },
  {
   "cell_type": "code",
   "execution_count": 12,
   "id": "84b15215-3460-4ebe-a0c9-26178568af58",
   "metadata": {},
   "outputs": [
    {
     "data": {
      "application/vnd.jupyter.widget-view+json": {
       "model_id": "d8816a7d7e1849e69a05e1d08c7bd485",
       "version_major": 2,
       "version_minor": 0
      },
      "text/plain": [
       "WebGuiWidget(layout=Layout(height='50vh', width='100%'), value={'gui_settings': {'Objects': {'Surface': False}…"
      ]
     },
     "metadata": {},
     "output_type": "display_data"
    }
   ],
   "source": [
    "s = 0.04*2\n",
    "N = 15 \n",
    "p = [(-s+2*s*i/N,-s+2*s*j/N,-s+2*s*k/N) for i in range(1,N) for j in range(1,N) for k in range(1,N)]\n",
    "# \n",
    "fieldlines = curl(gfu)._BuildFieldLines(mesh, p, num_fieldlines=N**3//5, randomized=True, length=0.3)\n",
    "from ngsolve.webgui import FieldLines\n",
    "# fieldlines = FieldLines(curl(gfu), mesh.Materials(\".*\"), length=0.2, num_lines=100)\n",
    "\n",
    "# fieldlines = FieldLines(curl(gfu), mesh=mesh, start_points=p, length=0.2, num_lines=100)\n",
    "\n",
    "Draw(curl(gfu), mesh,  \"X\", draw_vol=False, draw_surf=True, objects=[fieldlines], \\\n",
    "     min=0, max=1e-4, autoscale=False, settings={\"Objects\": {\"Surface\": False}},\n",
    "    **ea, **clipping);"
   ]
  },
  {
   "cell_type": "code",
   "execution_count": null,
   "id": "f34a11bf-c17e-4dd3-a2ba-0fc75f184639",
   "metadata": {},
   "outputs": [],
   "source": []
  },
  {
   "cell_type": "code",
   "execution_count": null,
   "id": "3b5de2c8-fbd9-4754-903c-8e6188e104fa",
   "metadata": {},
   "outputs": [],
   "source": []
  }
 ],
 "metadata": {
  "kernelspec": {
   "display_name": "Python 3 (ipykernel)",
   "language": "python",
   "name": "python3"
  },
  "language_info": {
   "codemirror_mode": {
    "name": "ipython",
    "version": 3
   },
   "file_extension": ".py",
   "mimetype": "text/x-python",
   "name": "python",
   "nbconvert_exporter": "python",
   "pygments_lexer": "ipython3",
   "version": "3.13.0"
  }
 },
 "nbformat": 4,
 "nbformat_minor": 5
}
